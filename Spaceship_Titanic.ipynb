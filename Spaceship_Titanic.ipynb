{
  "cells": [
    {
      "cell_type": "markdown",
      "id": "4af46597",
      "metadata": {
        "id": "4af46597"
      },
      "source": [
        "# Spaceship Titanic\n",
        "## 목표\n",
        "캐글의  [Spaceship Titanic](https://www.kaggle.com/competitions/spaceship-titanic/submissions) 데이터를 이용하여 우주선 타이타닉이 시공간 이상과 충돌하는 동안 승객이 다른 차원으로 이동되었는지 여부를 예측\n",
        "## 데이터\n",
        "데이터는 약 8700개의 훈련 데이터와 약 4300개의 훈련 데이터를 가지고 있으며 14개의 행으로 이루어져 있다.\n",
        "\n",
        " - PassengerId: 승객의 고유 ID\n",
        " - HomePlanet: 승객이 출발한 행성\n",
        " - CryoSleep: 냉동 수면 상태\n",
        " - Cabin: 승객이 머물고 있는 객실 번호 (deck/num/side형태)\n",
        " - Destination: 도착지\n",
        " - Age: 승객의 나이\n",
        " - VIP: VIP 서비스 지불 여부\n",
        " - RoomService, FoodCourt, ShoppingMall, Spa, VRDeck: 우주선 타이타닉의 고급 편의 시설 사용 비용\n",
        " - Name: 승객의 이름\n",
        " - Transported: 다른 차원으로 이동 여부 (예측 대상)"
      ]
    },
    {
      "cell_type": "code",
      "execution_count": null,
      "id": "a24a3a64",
      "metadata": {
        "id": "a24a3a64"
      },
      "outputs": [],
      "source": [
        "import numpy as np\n",
        "import pandas as pd\n",
        "from sklearn.model_selection import train_test_split\n",
        "from sklearn.impute import SimpleImputer\n",
        "from sklearn.pipeline import Pipeline\n",
        "from sklearn.compose import ColumnTransformer\n",
        "from sklearn.preprocessing import StandardScaler\n",
        "from sklearn.preprocessing import OneHotEncoder\n",
        "from sklearn.svm import SVC\n",
        "from sklearn.model_selection import GridSearchCV\n",
        "from sklearn.metrics import accuracy_score"
      ]
    },
    {
      "cell_type": "markdown",
      "id": "06301fc6",
      "metadata": {
        "id": "06301fc6"
      },
      "source": [
        "## 데이터 전처리\n",
        " - 삭제한 데이터: Name\n",
        " - 추가한 데이터: Side, Desk (Cabin의 deck, side 추출)\n",
        " - 결측치: 숫자형 데이터의 경우 중앙값으로 대체 후 표준화 하였고, 그 이외의 데이터는 최빈값으로 대체한 후 원핫인코딩 하였다."
      ]
    },
    {
      "cell_type": "code",
      "execution_count": null,
      "id": "c6842453",
      "metadata": {
        "id": "c6842453"
      },
      "outputs": [],
      "source": [
        "df_train = pd.read_csv(\"./train.csv\")\n",
        "df_test = pd.read_csv(\"./test.csv\")\n",
        "\n",
        "data_train = df_train.drop(['Name'], axis =1)\n",
        "data_test = df_test.drop(['Name'], axis =1)\n",
        "\n",
        "data_train['Side']=data_train[\"Cabin\"].str[-1]\n",
        "data_train['Desk']=data_train[\"Cabin\"].str[0]\n",
        "\n",
        "data_test['Side']=data_test[\"Cabin\"].str[-1]\n",
        "data_test['Desk']=data_test[\"Cabin\"].str[0]"
      ]
    },
    {
      "cell_type": "code",
      "execution_count": null,
      "id": "f4634fb2",
      "metadata": {
        "id": "f4634fb2"
      },
      "outputs": [],
      "source": [
        "X = data_train.drop(['Transported'],axis = 1)\n",
        "y = data_train.Transported.astype('int')"
      ]
    },
    {
      "cell_type": "code",
      "execution_count": null,
      "id": "a75b2a09",
      "metadata": {
        "id": "a75b2a09",
        "outputId": "d99841fc-1a1b-4f79-9293-62b08f45ffb7"
      },
      "outputs": [
        {
          "data": {
            "text/html": [
              "<div>\n",
              "<style scoped>\n",
              "    .dataframe tbody tr th:only-of-type {\n",
              "        vertical-align: middle;\n",
              "    }\n",
              "\n",
              "    .dataframe tbody tr th {\n",
              "        vertical-align: top;\n",
              "    }\n",
              "\n",
              "    .dataframe thead th {\n",
              "        text-align: right;\n",
              "    }\n",
              "</style>\n",
              "<table border=\"1\" class=\"dataframe\">\n",
              "  <thead>\n",
              "    <tr style=\"text-align: right;\">\n",
              "      <th></th>\n",
              "      <th>PassengerId</th>\n",
              "      <th>HomePlanet</th>\n",
              "      <th>CryoSleep</th>\n",
              "      <th>Cabin</th>\n",
              "      <th>Destination</th>\n",
              "      <th>Age</th>\n",
              "      <th>VIP</th>\n",
              "      <th>RoomService</th>\n",
              "      <th>FoodCourt</th>\n",
              "      <th>ShoppingMall</th>\n",
              "      <th>Spa</th>\n",
              "      <th>VRDeck</th>\n",
              "      <th>Side</th>\n",
              "      <th>Desk</th>\n",
              "    </tr>\n",
              "  </thead>\n",
              "  <tbody>\n",
              "    <tr>\n",
              "      <th>3600</th>\n",
              "      <td>3868_04</td>\n",
              "      <td>Earth</td>\n",
              "      <td>False</td>\n",
              "      <td>G/630/S</td>\n",
              "      <td>TRAPPIST-1e</td>\n",
              "      <td>0.0</td>\n",
              "      <td>False</td>\n",
              "      <td>0.0</td>\n",
              "      <td>0.0</td>\n",
              "      <td>0.0</td>\n",
              "      <td>0.0</td>\n",
              "      <td>0.0</td>\n",
              "      <td>S</td>\n",
              "      <td>G</td>\n",
              "    </tr>\n",
              "    <tr>\n",
              "      <th>1262</th>\n",
              "      <td>1336_01</td>\n",
              "      <td>Earth</td>\n",
              "      <td>True</td>\n",
              "      <td>G/201/S</td>\n",
              "      <td>TRAPPIST-1e</td>\n",
              "      <td>17.0</td>\n",
              "      <td>False</td>\n",
              "      <td>0.0</td>\n",
              "      <td>0.0</td>\n",
              "      <td>0.0</td>\n",
              "      <td>0.0</td>\n",
              "      <td>0.0</td>\n",
              "      <td>S</td>\n",
              "      <td>G</td>\n",
              "    </tr>\n",
              "    <tr>\n",
              "      <th>8612</th>\n",
              "      <td>9193_01</td>\n",
              "      <td>Earth</td>\n",
              "      <td>NaN</td>\n",
              "      <td>G/1483/S</td>\n",
              "      <td>PSO J318.5-22</td>\n",
              "      <td>35.0</td>\n",
              "      <td>False</td>\n",
              "      <td>0.0</td>\n",
              "      <td>0.0</td>\n",
              "      <td>0.0</td>\n",
              "      <td>0.0</td>\n",
              "      <td>0.0</td>\n",
              "      <td>S</td>\n",
              "      <td>G</td>\n",
              "    </tr>\n",
              "    <tr>\n",
              "      <th>5075</th>\n",
              "      <td>5422_01</td>\n",
              "      <td>Europa</td>\n",
              "      <td>True</td>\n",
              "      <td>D/164/S</td>\n",
              "      <td>55 Cancri e</td>\n",
              "      <td>26.0</td>\n",
              "      <td>False</td>\n",
              "      <td>0.0</td>\n",
              "      <td>0.0</td>\n",
              "      <td>0.0</td>\n",
              "      <td>NaN</td>\n",
              "      <td>0.0</td>\n",
              "      <td>S</td>\n",
              "      <td>D</td>\n",
              "    </tr>\n",
              "    <tr>\n",
              "      <th>4758</th>\n",
              "      <td>5076_01</td>\n",
              "      <td>Earth</td>\n",
              "      <td>False</td>\n",
              "      <td>G/818/P</td>\n",
              "      <td>TRAPPIST-1e</td>\n",
              "      <td>13.0</td>\n",
              "      <td>False</td>\n",
              "      <td>0.0</td>\n",
              "      <td>0.0</td>\n",
              "      <td>60.0</td>\n",
              "      <td>1.0</td>\n",
              "      <td>5147.0</td>\n",
              "      <td>P</td>\n",
              "      <td>G</td>\n",
              "    </tr>\n",
              "  </tbody>\n",
              "</table>\n",
              "</div>"
            ],
            "text/plain": [
              "     PassengerId HomePlanet CryoSleep     Cabin    Destination   Age    VIP  \\\n",
              "3600     3868_04      Earth     False   G/630/S    TRAPPIST-1e   0.0  False   \n",
              "1262     1336_01      Earth      True   G/201/S    TRAPPIST-1e  17.0  False   \n",
              "8612     9193_01      Earth       NaN  G/1483/S  PSO J318.5-22  35.0  False   \n",
              "5075     5422_01     Europa      True   D/164/S    55 Cancri e  26.0  False   \n",
              "4758     5076_01      Earth     False   G/818/P    TRAPPIST-1e  13.0  False   \n",
              "\n",
              "      RoomService  FoodCourt  ShoppingMall  Spa  VRDeck Side Desk  \n",
              "3600          0.0        0.0           0.0  0.0     0.0    S    G  \n",
              "1262          0.0        0.0           0.0  0.0     0.0    S    G  \n",
              "8612          0.0        0.0           0.0  0.0     0.0    S    G  \n",
              "5075          0.0        0.0           0.0  NaN     0.0    S    D  \n",
              "4758          0.0        0.0          60.0  1.0  5147.0    P    G  "
            ]
          },
          "execution_count": 155,
          "metadata": {},
          "output_type": "execute_result"
        }
      ],
      "source": [
        "X_train, X_val, y_train, y_val = train_test_split(X, y, stratify = y, test_size=0.2,random_state=42)\n",
        "X_train.head()"
      ]
    },
    {
      "cell_type": "markdown",
      "id": "cd7161a5",
      "metadata": {
        "id": "cd7161a5"
      },
      "source": [
        "## 모델 및 결과\n",
        " 모델은 사이킷런의 SVM을 사용하였고 또한 GridSearchCV를 사용하여 SVM의 최적의 파라미터를 찾았다. 그 결과 검증 데이터의 정확도는 0.8090856814261069, 테스트 데이터의 정확도는  0.79962, 최적의 파라미터는 {'C': 10, 'gamma': 0.1, 'kernel': 'rbf'} 라는 결과를 얻을 수 있었다."
      ]
    },
    {
      "cell_type": "code",
      "execution_count": null,
      "id": "65bcc427",
      "metadata": {
        "id": "65bcc427"
      },
      "outputs": [],
      "source": [
        "cat_cols = [col for col in X_train.columns if X_train[col].dtypes != 'float64']\n",
        "num_cols = [col for col in X_train.columns if X_train[col].dtypes == 'float64']"
      ]
    },
    {
      "cell_type": "code",
      "execution_count": null,
      "id": "5e5c2d1e",
      "metadata": {
        "id": "5e5c2d1e"
      },
      "outputs": [],
      "source": [
        "# 결측치 처리\n",
        "num_impute = Pipeline(steps=[\n",
        "    ('imputer', SimpleImputer(strategy = 'median')),\n",
        "    ('scaler',StandardScaler())\n",
        "])\n",
        "\n",
        "cat_transform = Pipeline(steps=[\n",
        "    ('imputer', SimpleImputer(strategy='most_frequent')),\n",
        "    ('onehot', OneHotEncoder(handle_unknown='ignore'))\n",
        "])\n",
        "\n",
        "preprocessor = ColumnTransformer(\n",
        "    transformers=[\n",
        "        ('num', num_impute, num_cols),\n",
        "        ('cat', cat_transform, cat_cols)\n",
        "    ])"
      ]
    },
    {
      "cell_type": "code",
      "execution_count": null,
      "id": "aca2c0b3",
      "metadata": {
        "id": "aca2c0b3",
        "outputId": "904ea165-93e9-421a-a5b5-e5d1532b736c"
      },
      "outputs": [
        {
          "data": {
            "text/plain": [
              "Pipeline(steps=[('preprocessor',\n",
              "                 ColumnTransformer(transformers=[('num',\n",
              "                                                  Pipeline(steps=[('imputer',\n",
              "                                                                   SimpleImputer(strategy='median')),\n",
              "                                                                  ('scaler',\n",
              "                                                                   StandardScaler())]),\n",
              "                                                  ['Age', 'RoomService',\n",
              "                                                   'FoodCourt', 'ShoppingMall',\n",
              "                                                   'Spa', 'VRDeck']),\n",
              "                                                 ('cat',\n",
              "                                                  Pipeline(steps=[('imputer',\n",
              "                                                                   SimpleImputer(strategy='most_frequent')),\n",
              "                                                                  ('onehot',\n",
              "                                                                   OneHotEncoder(handle_unknown='ignore'))]),\n",
              "                                                  ['PassengerId', 'HomePlanet',\n",
              "                                                   'CryoSleep', 'Cabin',\n",
              "                                                   'Destination', 'VIP', 'Side',\n",
              "                                                   'Desk'])])),\n",
              "                ('model',\n",
              "                 GridSearchCV(estimator=SVC(),\n",
              "                              param_grid=[{'C': [0.001, 0.01, 0.1, 1, 10, 100],\n",
              "                                           'kernel': ['linear']},\n",
              "                                          {'C': [0.001, 0.01, 0.1, 1, 10, 100],\n",
              "                                           'gamma': [0.001, 0.01, 0.1, 1, 10,\n",
              "                                                     100],\n",
              "                                           'kernel': ['rbf']}],\n",
              "                              return_train_score=True))])"
            ]
          },
          "execution_count": 127,
          "metadata": {},
          "output_type": "execute_result"
        }
      ],
      "source": [
        "# 그리드 서치cv 및 훈련\n",
        "param_range =[0.001, 0.01, 0.1, 1, 10, 100]\n",
        "param_grid = [{'C': param_range, \n",
        "               'kernel': ['linear']},\n",
        "              {'C': param_range, \n",
        "               'gamma': param_range, \n",
        "               'kernel': ['rbf']}]\n",
        "model = SVC()\n",
        "grid_search = GridSearchCV(model, param_grid, return_train_score=True)\n",
        "\n",
        "result_model = Pipeline(steps=[('preprocessor', preprocessor),\n",
        "                      ('model', grid_search)\n",
        "                     ])\n",
        "\n",
        "\n",
        "result_model.fit(X_train, y_train)"
      ]
    },
    {
      "cell_type": "code",
      "execution_count": null,
      "id": "89390e12",
      "metadata": {
        "id": "89390e12",
        "outputId": "aff823fe-83eb-45f7-d244-c0bda113d517"
      },
      "outputs": [
        {
          "name": "stdout",
          "output_type": "stream",
          "text": [
            "Accuracy:  0.8090856814261069\n",
            "best params:  {'C': 10, 'gamma': 0.1, 'kernel': 'rbf'}\n"
          ]
        }
      ],
      "source": [
        "# 검증\n",
        "pred = result_model.predict(X_val)\n",
        "print('Accuracy: ', accuracy_score(y_val, pred))\n",
        "print('best params: ', grid_search.best_params_)"
      ]
    },
    {
      "cell_type": "code",
      "execution_count": null,
      "id": "13283b34",
      "metadata": {
        "id": "13283b34"
      },
      "outputs": [],
      "source": []
    }
  ],
  "metadata": {
    "kernelspec": {
      "display_name": "Python 3 (ipykernel)",
      "language": "python",
      "name": "python3"
    },
    "language_info": {
      "codemirror_mode": {
        "name": "ipython",
        "version": 3
      },
      "file_extension": ".py",
      "mimetype": "text/x-python",
      "name": "python",
      "nbconvert_exporter": "python",
      "pygments_lexer": "ipython3",
      "version": "3.9.12"
    },
    "colab": {
      "provenance": []
    }
  },
  "nbformat": 4,
  "nbformat_minor": 5
}